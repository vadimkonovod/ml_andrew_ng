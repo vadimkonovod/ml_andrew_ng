{
 "cells": [
  {
   "cell_type": "markdown",
   "id": "ade234c0",
   "metadata": {},
   "source": [
    "# Week 2"
   ]
  },
  {
   "cell_type": "code",
   "execution_count": 226,
   "id": "47db7e20",
   "metadata": {},
   "outputs": [],
   "source": [
    "import pandas as pd\n",
    "import matplotlib.pyplot as mp\n",
    "from matplotlib.pyplot import figure\n",
    "import numpy as np\n",
    "from sklearn.linear_model import LinearRegression, Lasso, Ridge"
   ]
  },
  {
   "cell_type": "markdown",
   "id": "f95a9f7c",
   "metadata": {},
   "source": [
    "### Linear regression with one variable"
   ]
  },
  {
   "cell_type": "markdown",
   "id": "d440bac1",
   "metadata": {},
   "source": [
    "In this part of this exercise, you will implement linear regression with one variable to predict profits for a food truck. Suppose you are the CEO of a restaurant franchise and are considering different cities for opening a new outlet. The chain already has trucks in various cities and you have data for profits and populations from the cities. You would like to use this data to help you select which city to expand to next.\n",
    "\n",
    "The file ex1data1.txt contains the dataset for our linear regression problem. The first column is the population of a city and the second column is the profit of a food truck in that city. A negative value for profit indicates a loss. This script has already been set up to load this data for you."
   ]
  },
  {
   "cell_type": "code",
   "execution_count": 227,
   "id": "799230f3",
   "metadata": {},
   "outputs": [
    {
     "data": {
      "text/plain": [
       "array([5.0269])"
      ]
     },
     "execution_count": 227,
     "metadata": {},
     "output_type": "execute_result"
    }
   ],
   "source": [
    "df = pd.read_csv('ex1data1.txt', header=None)\n",
    "\n",
    "X = df[0].values.reshape(len(df[0]),1)\n",
    "y = df[1].values\n",
    "\n",
    "min(X)"
   ]
  },
  {
   "cell_type": "code",
   "execution_count": 221,
   "id": "fb006fb9",
   "metadata": {},
   "outputs": [
    {
     "data": {
      "text/plain": [
       "4.5623"
      ]
     },
     "execution_count": 221,
     "metadata": {},
     "output_type": "execute_result"
    }
   ],
   "source": [
    "\n",
    "len(df[df[1] < np.median(df[1])])\n",
    "np.median(df[1])"
   ]
  },
  {
   "cell_type": "code",
   "execution_count": 225,
   "id": "3b4a3524",
   "metadata": {},
   "outputs": [
    {
     "data": {
      "text/html": [
       "<div>\n",
       "<style scoped>\n",
       "    .dataframe tbody tr th:only-of-type {\n",
       "        vertical-align: middle;\n",
       "    }\n",
       "\n",
       "    .dataframe tbody tr th {\n",
       "        vertical-align: top;\n",
       "    }\n",
       "\n",
       "    .dataframe thead th {\n",
       "        text-align: right;\n",
       "    }\n",
       "</style>\n",
       "<table border=\"1\" class=\"dataframe\">\n",
       "  <thead>\n",
       "    <tr style=\"text-align: right;\">\n",
       "      <th></th>\n",
       "      <th>0</th>\n",
       "      <th>1</th>\n",
       "    </tr>\n",
       "  </thead>\n",
       "  <tbody>\n",
       "    <tr>\n",
       "      <th>count</th>\n",
       "      <td>97.000000</td>\n",
       "      <td>97.000000</td>\n",
       "    </tr>\n",
       "    <tr>\n",
       "      <th>mean</th>\n",
       "      <td>8.159800</td>\n",
       "      <td>5.839135</td>\n",
       "    </tr>\n",
       "    <tr>\n",
       "      <th>std</th>\n",
       "      <td>3.869884</td>\n",
       "      <td>5.510262</td>\n",
       "    </tr>\n",
       "    <tr>\n",
       "      <th>min</th>\n",
       "      <td>5.026900</td>\n",
       "      <td>-2.680700</td>\n",
       "    </tr>\n",
       "    <tr>\n",
       "      <th>25%</th>\n",
       "      <td>5.707700</td>\n",
       "      <td>1.986900</td>\n",
       "    </tr>\n",
       "    <tr>\n",
       "      <th>50%</th>\n",
       "      <td>6.589400</td>\n",
       "      <td>4.562300</td>\n",
       "    </tr>\n",
       "    <tr>\n",
       "      <th>75%</th>\n",
       "      <td>8.578100</td>\n",
       "      <td>7.046700</td>\n",
       "    </tr>\n",
       "    <tr>\n",
       "      <th>max</th>\n",
       "      <td>22.203000</td>\n",
       "      <td>24.147000</td>\n",
       "    </tr>\n",
       "  </tbody>\n",
       "</table>\n",
       "</div>"
      ],
      "text/plain": [
       "               0          1\n",
       "count  97.000000  97.000000\n",
       "mean    8.159800   5.839135\n",
       "std     3.869884   5.510262\n",
       "min     5.026900  -2.680700\n",
       "25%     5.707700   1.986900\n",
       "50%     6.589400   4.562300\n",
       "75%     8.578100   7.046700\n",
       "max    22.203000  24.147000"
      ]
     },
     "execution_count": 225,
     "metadata": {},
     "output_type": "execute_result"
    }
   ],
   "source": [
    "df.describe()"
   ]
  },
  {
   "cell_type": "code",
   "execution_count": 59,
   "id": "c7e72d32",
   "metadata": {},
   "outputs": [
    {
     "data": {
      "image/png": "[encoded data removed]",
      "text/plain": [
       "<Figure size 432x288 with 1 Axes>"
      ]
     },
     "metadata": {
      "needs_background": "light"
     },
     "output_type": "display_data"
    }
   ],
   "source": [
    "mp.plot(X, y, 'rx')\n",
    "mp.xlabel('Population of city in 10.000s')\n",
    "mp.ylabel('Profit in $10.000')\n",
    "mp.yticks(range(-5, 25, 5))\n",
    "mp.show()"
   ]
  },
  {
   "cell_type": "code",
   "execution_count": 233,
   "id": "066674d4",
   "metadata": {},
   "outputs": [
    {
     "name": "stdout",
     "output_type": "stream",
     "text": [
      "0.7020315537841397\n",
      "[1.19303364]\n",
      "-3.89578087831185\n"
     ]
    },
    {
     "data": {
      "text/plain": [
       "2798.3687635172673"
      ]
     },
     "execution_count": 233,
     "metadata": {},
     "output_type": "execute_result"
    }
   ],
   "source": [
    "lin_reg = LinearRegression().fit(X, y)\n",
    "\n",
    "print(lin_reg.score(X, y))\n",
    "print(lin_reg.coef_)\n",
    "print(lin_reg.intercept_)\n",
    "\n",
    "lin_reg.predict(np.array([[3.5]]))[0] * 10_000"
   ]
  },
  {
   "cell_type": "code",
   "execution_count": 13,
   "id": "c786dbb1",
   "metadata": {},
   "outputs": [
    {
     "name": "stdout",
     "output_type": "stream",
     "text": [
      "0.702009101492451\n",
      "[1.18628674]\n",
      "-3.84072746797664\n"
     ]
    },
    {
     "data": {
      "text/plain": [
       "3112.761127888959"
      ]
     },
     "execution_count": 13,
     "metadata": {},
     "output_type": "execute_result"
    }
   ],
   "source": [
    "lasso = Lasso(alpha=0.1).fit(X,y)\n",
    "\n",
    "print(lasso.score(X, y))\n",
    "print(lasso.coef_)\n",
    "print(lasso.intercept_)\n",
    "\n",
    "lasso.predict([[3.5]])[0] * 10_000"
   ]
  },
  {
   "cell_type": "code",
   "execution_count": 14,
   "id": "217bb998",
   "metadata": {},
   "outputs": [
    {
     "name": "stdout",
     "output_type": "stream",
     "text": [
      "0.7020315503881828\n",
      "[1.19295067]\n",
      "-3.8951038061199554\n"
     ]
    },
    {
     "data": {
      "text/plain": [
       "2802.2353055891267"
      ]
     },
     "execution_count": 14,
     "metadata": {},
     "output_type": "execute_result"
    }
   ],
   "source": [
    "ridge = Ridge(alpha=0.1).fit(X,y)\n",
    "\n",
    "print(ridge.score(X, y))\n",
    "print(ridge.coef_)\n",
    "print(ridge.intercept_)\n",
    "\n",
    "ridge.predict([[3.5]])[0] * 10_000"
   ]
  },
  {
   "cell_type": "code",
   "execution_count": 55,
   "id": "55ceef6b",
   "metadata": {},
   "outputs": [
    {
     "data": {
      "image/png": "[encoded data removed]",
      "text/plain": [
       "<Figure size 432x288 with 1 Axes>"
      ]
     },
     "metadata": {
      "needs_background": "light"
     },
     "output_type": "display_data"
    }
   ],
   "source": [
    "x_lr = np.linspace(0, 22, 22)\n",
    "y_lr = lin_reg.coef_ * x_lr + lin_reg.intercept_\n",
    "\n",
    "mp.plot(X, y, 'x', X, lasso.coef_ * X + lasso.intercept_, 'b')\n",
    "mp.plot(x_lr, y_lr, 'r')\n",
    "mp.xlabel('Population of city in 10.000s')\n",
    "mp.ylabel('Profit in $10.000')\n",
    "mp.show()"
   ]
  },
  {
   "cell_type": "markdown",
   "id": "b3155543",
   "metadata": {},
   "source": [
    "#### Интересно, что при возрастании населения с 35000 до 70000 (в два раза), выручка вырастает в 10 раз.\n",
    "Может быть это значит, что открыть кафе в разных городах стоит одинаково, но \"отбить\" стоимость в маленьком городе сложнее.\n",
    "\n",
    "#### В маленьком городе нужно субсидировать малый бизнес."
   ]
  },
  {
   "cell_type": "code",
   "execution_count": 36,
   "id": "7a264034",
   "metadata": {},
   "outputs": [
    {
     "name": "stdout",
     "output_type": "stream",
     "text": [
      "4519.759999999995\n",
      "45342.42999999999\n",
      "126987.76999999999\n"
     ]
    }
   ],
   "source": [
    "# коэф-ты из MATLAB'a\n",
    "print(35000 * 1.166362 - 36302.91)\n",
    "print(70000 * 1.166362 - 36302.91)\n",
    "print(140000 * 1.166362 - 36302.91)"
   ]
  },
  {
   "cell_type": "markdown",
   "id": "56e68e84",
   "metadata": {},
   "source": [
    "### Normalization"
   ]
  },
  {
   "cell_type": "code",
   "execution_count": 107,
   "id": "6376fea7",
   "metadata": {},
   "outputs": [
    {
     "name": "stdout",
     "output_type": "stream",
     "text": [
      "[2000.68085106    3.17021277]\n",
      "[7.86202619e+02 7.52842809e-01]\n"
     ]
    }
   ],
   "source": [
    "from sklearn.preprocessing import scale\n",
    "\n",
    "df = pd.read_csv('ex1data2.txt', header=None)\n",
    "A = df.values[:,:-1]\n",
    "\n",
    "mean = np.mean(A, axis=0)\n",
    "std = np.std(A, axis=0)\n",
    "print(mean)\n",
    "print(std)"
   ]
  },
  {
   "cell_type": "code",
   "execution_count": 108,
   "id": "c4930b36",
   "metadata": {},
   "outputs": [
    {
     "name": "stdout",
     "output_type": "stream",
     "text": [
      "[[ 0.13141542 -0.22609337]\n",
      " [-0.5096407  -0.22609337]]\n",
      "\n",
      "[[ 0.13141542 -0.22609337]\n",
      " [-0.5096407  -0.22609337]]\n"
     ]
    }
   ],
   "source": [
    "print(((A - mean)/ std)[:2])\n",
    "print()\n",
    "print(scale(A)[:2])"
   ]
  },
  {
   "cell_type": "markdown",
   "id": "5ea4c8cd",
   "metadata": {},
   "source": [
    "### Linear regression with multiple variables"
   ]
  },
  {
   "cell_type": "code",
   "execution_count": 205,
   "id": "8af90135",
   "metadata": {},
   "outputs": [],
   "source": [
    "df = pd.read_csv('ex1data2.txt', header=None)\n",
    "\n",
    "y = df.values[:, -1]\n",
    "X = df.values[:, :-1]"
   ]
  },
  {
   "cell_type": "code",
   "execution_count": 176,
   "id": "9ab89c97",
   "metadata": {},
   "outputs": [
    {
     "name": "stdout",
     "output_type": "stream",
     "text": [
      "0.7329450180289141\n",
      "[  139.21067402 -8738.01911233]\n",
      "89597.90954279748\n"
     ]
    },
    {
     "data": {
      "text/plain": [
       "293081.4643348961"
      ]
     },
     "execution_count": 176,
     "metadata": {},
     "output_type": "execute_result"
    }
   ],
   "source": [
    "lin_reg = LinearRegression().fit(X, y)\n",
    "\n",
    "print(lin_reg.score(X, y))\n",
    "print(lin_reg.coef_)\n",
    "print(lin_reg.intercept_)\n",
    "\n",
    "lin_reg.predict(np.array([[1650, 3]]))[0]"
   ]
  },
  {
   "cell_type": "markdown",
   "id": "23899392",
   "metadata": {},
   "source": [
    "#### Using Normal Equation"
   ]
  },
  {
   "cell_type": "code",
   "execution_count": 206,
   "id": "f4d71d5d",
   "metadata": {},
   "outputs": [
    {
     "data": {
      "text/plain": [
       "293081.4643349892"
      ]
     },
     "execution_count": 206,
     "metadata": {},
     "output_type": "execute_result"
    }
   ],
   "source": [
    "df = pd.read_csv('ex1data2.txt', header=None)\n",
    "\n",
    "y = df.values[:, -1]\n",
    "X = df.values[:, :-1]\n",
    "\n",
    "# нужно добавить столбец единиц к матрице X, чтобы получить свободный члено theta_0 \n",
    "X = np.c_[ np.ones(len(X)), X ] \n",
    "theta = np.linalg.pinv(X.transpose() @ X) @ X.transpose() @ y\n",
    "\n",
    "# дом на 1650 кв метров, с 3 спальнями\n",
    "input_data = [1, 1650, 3]\n",
    "price = theta @ input_data\n",
    "price"
   ]
  },
  {
   "cell_type": "markdown",
   "id": "15168696",
   "metadata": {},
   "source": [
    "# Week 3"
   ]
  },
  {
   "cell_type": "code",
   "execution_count": null,
   "id": "5e9723f2",
   "metadata": {},
   "outputs": [],
   "source": []
  }
 ],
 "metadata": {
  "kernelspec": {
   "display_name": "Python 3",
   "language": "python",
   "name": "python3"
  },
  "language_info": {
   "codemirror_mode": {
    "name": "ipython",
    "version": 3
   },
   "file_extension": ".py",
   "mimetype": "text/x-python",
   "name": "python",
   "nbconvert_exporter": "python",
   "pygments_lexer": "ipython3",
   "version": "3.8.8"
  }
 },
 "nbformat": 4,
 "nbformat_minor": 5
}
